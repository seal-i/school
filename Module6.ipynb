{
 "cells": [
  {
   "cell_type": "code",
   "execution_count": 11,
   "id": "0b820e3c-4a04-4e14-a1c8-4e5b737162ba",
   "metadata": {},
   "outputs": [],
   "source": [
    "from datetime import datetime"
   ]
  },
  {
   "cell_type": "code",
   "execution_count": 13,
   "id": "6a88ce51-ed44-4fd0-b76e-e048f3e7e589",
   "metadata": {},
   "outputs": [],
   "source": [
    "# 13.1 Write the current date as a string to the text file today.txt\n",
    "current_date = datetime.now().strftime(\"%Y-%m-%d\")\n",
    "with open(\"today.txt\", \"w\") as file:\n",
    "    file.write(current_date)"
   ]
  },
  {
   "cell_type": "code",
   "execution_count": 15,
   "id": "fb83185a-171c-4402-bdb4-92ddc0341db8",
   "metadata": {},
   "outputs": [],
   "source": [
    "# 13.2 Read the text file today.txt into the string today_string\n",
    "with open(\"today.txt\", \"r\") as file:\n",
    "    today_string = file.read()"
   ]
  },
  {
   "cell_type": "code",
   "execution_count": 17,
   "id": "7aa1dd16-3ef6-4596-828c-72d906614f84",
   "metadata": {},
   "outputs": [
    {
     "data": {
      "text/plain": [
       "('2024-12-01', '2024-12-01', datetime.datetime(2024, 12, 1, 0, 0))"
      ]
     },
     "execution_count": 17,
     "metadata": {},
     "output_type": "execute_result"
    }
   ],
   "source": [
    "# 13.3 Parse the date from today_string\n",
    "parsed_date = datetime.strptime(today_string, \"%Y-%m-%d\")\n",
    "\n",
    "# Display results\n",
    "current_date, today_string, parsed_date"
   ]
  },
  {
   "cell_type": "code",
   "execution_count": null,
   "id": "507e65f6-a229-4e55-af21-ed730191ee15",
   "metadata": {},
   "outputs": [],
   "source": []
  },
  {
   "cell_type": "code",
   "execution_count": 24,
   "id": "0d3d1c34-b17a-49a7-ab90-1b2be443c620",
   "metadata": {},
   "outputs": [
    {
     "name": "stdout",
     "output_type": "stream",
     "text": [
      "All processes have completed.\n"
     ]
    }
   ],
   "source": [
    "## 15.1\n",
    "\n",
    "import multiprocessing\n",
    "import time\n",
    "import random\n",
    "from datetime import datetime\n",
    "\n",
    "def process_task():\n",
    "    \"\"\"Task for each process: Wait a random amount of time, print the current time, then exit.\"\"\"\n",
    "    wait_time = random.uniform(0, 1)  # Random float between 0 and 1\n",
    "    time.sleep(wait_time)\n",
    "    print(f\"Process {multiprocessing.current_process().name} waited {wait_time:.2f} seconds. Current time: {datetime.now()}\")\n",
    "\n",
    "if __name__ == \"__main__\":\n",
    "    # Create three separate processes\n",
    "    processes = [multiprocessing.Process(target=process_task, name=f\"Process-{i+1}\") for i in range(3)]\n",
    "    \n",
    "    # Start each process\n",
    "    for process in processes:\n",
    "        process.start()\n",
    "    \n",
    "    # Wait for all processes to complete\n",
    "    for process in processes:\n",
    "        process.join()\n",
    "\n",
    "    print(\"All processes have completed.\")"
   ]
  },
  {
   "cell_type": "code",
   "execution_count": null,
   "id": "0c39c0c3-7436-4013-96f7-dd07e7578c5d",
   "metadata": {},
   "outputs": [],
   "source": []
  }
 ],
 "metadata": {
  "kernelspec": {
   "display_name": "Python 3 (ipykernel)",
   "language": "python",
   "name": "python3"
  },
  "language_info": {
   "codemirror_mode": {
    "name": "ipython",
    "version": 3
   },
   "file_extension": ".py",
   "mimetype": "text/x-python",
   "name": "python",
   "nbconvert_exporter": "python",
   "pygments_lexer": "ipython3",
   "version": "3.12.7"
  }
 },
 "nbformat": 4,
 "nbformat_minor": 5
}
